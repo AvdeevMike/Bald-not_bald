{
  "nbformat": 4,
  "nbformat_minor": 0,
  "metadata": {
    "colab": {
      "provenance": [],
      "authorship_tag": "ABX9TyMSOb65DU7CguItQ5MRnfk+",
      "include_colab_link": true
    },
    "kernelspec": {
      "name": "python3",
      "display_name": "Python 3"
    },
    "language_info": {
      "name": "python"
    }
  },
  "cells": [
    {
      "cell_type": "markdown",
      "metadata": {
        "id": "view-in-github",
        "colab_type": "text"
      },
      "source": [
        "<a href=\"https://colab.research.google.com/github/AvdeevMike/Bald-not_bald/blob/main/HairHealth_onefoto.ipynb\" target=\"_parent\"><img src=\"https://colab.research.google.com/assets/colab-badge.svg\" alt=\"Open In Colab\"/></a>"
      ]
    },
    {
      "cell_type": "code",
      "execution_count": null,
      "metadata": {
        "colab": {
          "base_uri": "https://localhost:8080/"
        },
        "id": "4Z6mjh9erwGg",
        "outputId": "395e0d9c-f797-4888-f870-2f4a59f8d2ac"
      },
      "outputs": [
        {
          "output_type": "stream",
          "name": "stdout",
          "text": [
            "Drive already mounted at /content/drive; to attempt to forcibly remount, call drive.mount(\"/content/drive\", force_remount=True).\n",
            "Found 160 images belonging to 2 classes.\n",
            "Found 40 images belonging to 2 classes.\n",
            "Epoch 1/10\n",
            "8/8 [==============================] - 22s 2s/step - loss: 0.8217 - accuracy: 0.5188 - val_loss: 0.6872 - val_accuracy: 0.5000\n",
            "Epoch 2/10\n",
            "8/8 [==============================] - 20s 2s/step - loss: 0.6869 - accuracy: 0.6062 - val_loss: 0.6560 - val_accuracy: 0.5000\n",
            "Epoch 3/10\n",
            "8/8 [==============================] - 19s 2s/step - loss: 0.6640 - accuracy: 0.5500 - val_loss: 0.5463 - val_accuracy: 0.8750\n",
            "Epoch 4/10\n",
            "8/8 [==============================] - 19s 2s/step - loss: 0.5578 - accuracy: 0.7250 - val_loss: 0.4780 - val_accuracy: 0.8000\n",
            "Epoch 5/10\n",
            "8/8 [==============================] - 19s 2s/step - loss: 0.4062 - accuracy: 0.8500 - val_loss: 0.6941 - val_accuracy: 0.7500\n",
            "Epoch 6/10\n",
            "8/8 [==============================] - 19s 2s/step - loss: 0.2904 - accuracy: 0.8875 - val_loss: 0.3332 - val_accuracy: 0.8500\n",
            "Epoch 7/10\n",
            "8/8 [==============================] - 19s 2s/step - loss: 0.2015 - accuracy: 0.9375 - val_loss: 0.3424 - val_accuracy: 0.9000\n",
            "Epoch 8/10\n",
            "8/8 [==============================] - 19s 2s/step - loss: 0.1154 - accuracy: 0.9500 - val_loss: 0.4791 - val_accuracy: 0.8750\n",
            "Epoch 9/10\n",
            "8/8 [==============================] - 19s 2s/step - loss: 0.0484 - accuracy: 0.9875 - val_loss: 0.5715 - val_accuracy: 0.8750\n",
            "Epoch 10/10\n",
            "8/8 [==============================] - 19s 2s/step - loss: 0.0251 - accuracy: 0.9937 - val_loss: 0.7762 - val_accuracy: 0.8250\n",
            "1/1 [==============================] - 0s 148ms/step\n",
            "Не лысый человек\n"
          ]
        }
      ],
      "source": [
        "import tensorflow as tf\n",
        "from tensorflow import keras\n",
        "from tensorflow.keras.preprocessing import image\n",
        "from tensorflow.keras.preprocessing.image import ImageDataGenerator\n",
        "import numpy as np\n",
        "from google.colab import drive\n",
        "\n",
        "# Подключаем Google Drive\n",
        "drive.mount('/content/drive')\n",
        "data_path = '/content/drive/My Drive/HairHealth/'\n",
        "\n",
        "# Определяем пути к папкам с фотографиями\n",
        "train_dir = '/content/drive/My Drive/HairHealth/train'\n",
        "test_dir = '/content/drive/My Drive/HairHealth/test'\n",
        "\n",
        "# Создаем генераторы изображений для обучения и тестирования\n",
        "train_datagen = ImageDataGenerator(rescale=1./255)\n",
        "test_datagen = ImageDataGenerator(rescale=1./255)\n",
        "\n",
        "# Загружаем обучающие и тестовые изображения с помощью генераторов\n",
        "train_generator = train_datagen.flow_from_directory(\n",
        "        train_dir,\n",
        "        target_size=(150, 150),\n",
        "        batch_size=20,\n",
        "        class_mode='binary',\n",
        "        classes=['nb', 'bald']\n",
        ")\n",
        "\n",
        "test_generator = test_datagen.flow_from_directory(\n",
        "        test_dir,\n",
        "        target_size=(150, 150),\n",
        "        batch_size=20,\n",
        "        class_mode='binary',\n",
        "        classes=['nb', 'bald']\n",
        ")\n",
        "\n",
        "# Создаем модель нейронной сети\n",
        "model = keras.Sequential([\n",
        "    keras.layers.Conv2D(32, (3, 3), activation='relu', input_shape=(150, 150, 3)),\n",
        "    keras.layers.MaxPooling2D((2, 2)),\n",
        "    keras.layers.Conv2D(64, (3, 3), activation='relu'),\n",
        "    keras.layers.MaxPooling2D((2, 2)),\n",
        "    keras.layers.Conv2D(128, (3, 3), activation='relu'),\n",
        "    keras.layers.MaxPooling2D((2, 2)),\n",
        "    keras.layers.Conv2D(128, (3, 3), activation='relu'),\n",
        "    keras.layers.MaxPooling2D((2, 2)),\n",
        "    keras.layers.Flatten(),\n",
        "    keras.layers.Dense(512, activation='relu'),\n",
        "    keras.layers.Dense(1, activation='sigmoid')])\n",
        "\n",
        "# Компилируем модель\n",
        "model.compile(optimizer='adam',\n",
        "              loss='binary_crossentropy',\n",
        "              metrics=['accuracy'])\n",
        "\n",
        "# Обучаем модель\n",
        "history = model.fit(\n",
        "    train_generator,\n",
        "    steps_per_epoch=len(train_generator),\n",
        "    epochs=10,\n",
        "    validation_data=test_generator,\n",
        "    validation_steps=len(test_generator))\n",
        "\n",
        "# Загружаем изображение для классификациии\n",
        "img_path = '/content/drive/My Drive/HairHealth/nb108.jpg'\n",
        "img = image.load_img(img_path, target_size=(150, 150))\n",
        "img_array = image.img_to_array(img)\n",
        "img_array = np.expand_dims(img_array, axis=0)\n",
        "img_array /= 255\n",
        "\n",
        "# Классифицируем изображение\n",
        "prediction = model.predict(img_array)\n",
        "if prediction[0] > 0.5:\n",
        "    print(\"Лысый человек\")\n",
        "else:\n",
        "    print(\"Не лысый человек\")\n",
        "\n"
      ]
    }
  ]
}