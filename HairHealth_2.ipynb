{
  "nbformat": 4,
  "nbformat_minor": 0,
  "metadata": {
    "colab": {
      "provenance": [],
      "authorship_tag": "ABX9TyMVwP6AyN5aH6blLs/kyg57",
      "include_colab_link": true
    },
    "kernelspec": {
      "name": "python3",
      "display_name": "Python 3"
    },
    "language_info": {
      "name": "python"
    }
  },
  "cells": [
    {
      "cell_type": "markdown",
      "metadata": {
        "id": "view-in-github",
        "colab_type": "text"
      },
      "source": [
        "<a href=\"https://colab.research.google.com/github/AvdeevMike/Bald-not_bald/blob/main/HairHealth_2.ipynb\" target=\"_parent\"><img src=\"https://colab.research.google.com/assets/colab-badge.svg\" alt=\"Open In Colab\"/></a>"
      ]
    },
    {
      "cell_type": "code",
      "execution_count": null,
      "metadata": {
        "id": "WrWXafHX3x6i"
      },
      "outputs": [],
      "source": [
        "import tensorflow as tf\n",
        "from tensorflow import keras\n",
        "from tensorflow.keras.preprocessing import image\n",
        "from tensorflow.keras.preprocessing.image import ImageDataGenerator\n",
        "import numpy as np\n",
        "from google.colab import drive\n",
        "\n",
        "# Подключаем Google Drive\n",
        "drive.mount('/content/drive')\n",
        "data_path = '/content/drive/My Drive/HairHealth/'\n",
        "\n",
        "# Определяем пути к папкам с фотографиями\n",
        "train_dir = '/content/drive/My Drive/HairHealth/train'\n",
        "test_dir = '/content/drive/My Drive/HairHealth/test'\n",
        "\n",
        "# Создаем генераторы изображений для обучения и тестирования\n",
        "train_datagen = ImageDataGenerator(rescale=1./255)\n",
        "test_datagen = ImageDataGenerator(rescale=1./255)\n",
        "\n",
        "# Загружаем обучающие и тестовые изображения с помощью генераторов\n",
        "train_generator = train_datagen.flow_from_directory(\n",
        "        train_dir,\n",
        "        target_size=(150, 150),\n",
        "        batch_size=20,\n",
        "        class_mode='binary',\n",
        "        classes=['nb', 'bald']\n",
        ")\n",
        "\n",
        "test_generator = test_datagen.flow_from_directory(\n",
        "        test_dir,\n",
        "        target_size=(150, 150),\n",
        "        batch_size=20,\n",
        "        class_mode='binary',\n",
        "        classes=['nb', 'bald']\n",
        ")\n",
        "\n",
        "# Создаем модель нейронной сети\n",
        "model = keras.Sequential([\n",
        "    keras.layers.Conv2D(32, (3, 3), activation='relu', input_shape=(150, 150, 3)),\n",
        "    keras.layers.MaxPooling2D((2, 2)),\n",
        "    keras.layers.Conv2D(64, (3, 3), activation='relu'),\n",
        "    keras.layers.MaxPooling2D((2, 2)),\n",
        "    keras.layers.Conv2D(128, (3, 3), activation='relu'),\n",
        "    keras.layers.MaxPooling2D((2, 2)),\n",
        "    keras.layers.Conv2D(128, (3, 3), activation='relu'),\n",
        "    keras.layers.MaxPooling2D((2, 2)),\n",
        "    keras.layers.Flatten(),\n",
        "    keras.layers.Dense(512, activation='relu'),\n",
        "    keras.layers.Dense(1, activation='sigmoid')])\n",
        "\n",
        "# Компилируем модель\n",
        "model.compile(optimizer='adam',\n",
        "              loss='binary_crossentropy',\n",
        "              metrics=['accuracy'])\n",
        "\n",
        "# Обучаем модель\n",
        "history = model.fit(\n",
        "    train_generator,\n",
        "    steps_per_epoch=len(train_generator),\n",
        "    epochs=10,\n",
        "    validation_data=test_generator,\n",
        "    validation_steps=len(test_generator))\n",
        "\n",
        "# Загружаем изображение для классификациии\n",
        "# Путь к папке с фотографиями\n",
        "photos_dir = '/content/drive/My Drive/chek/'\n",
        "\n",
        "# Получаем список файлов в папке\n",
        "photo_files = os.listdir(photos_dir)\n",
        "\n",
        "# Классифицируем каждую фотографию\n",
        "for photo_file in photo_files:\n",
        "    # Полный путь к фотографии\n",
        "    photo_path = os.path.join(photos_dir, photo_file)\n",
        "\n",
        "    # Загружаем и предобрабатываем фотографию\n",
        "    img = image.load_img(photo_path, target_size=(150, 150))\n",
        "    img_array = image.img_to_array(img)\n",
        "    img_array = np.expand_dims(img_array, axis=0)\n",
        "    img_array /= 255\n",
        "\n",
        "    # Классифицируем фотографию\n",
        "    prediction = model.predict(img_array)\n",
        "    if prediction[0] > 0.5:\n",
        "        print(photo_file, \" - Лысый человек\")\n",
        "    else:\n",
        "        print(photo_file, \" - Не лысый человек\")\n"
      ]
    }
  ]
}